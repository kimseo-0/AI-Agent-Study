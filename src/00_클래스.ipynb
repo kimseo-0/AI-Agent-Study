{
 "cells": [
  {
   "cell_type": "markdown",
   "id": "d45c63f3",
   "metadata": {},
   "source": [
    "# 클래스"
   ]
  },
  {
   "cell_type": "code",
   "execution_count": null,
   "id": "4b4ca4c2",
   "metadata": {},
   "outputs": [],
   "source": [
    "class minion():\n",
    "    def __init__(self):\n",
    "        print(\"미니언 생성\")"
   ]
  },
  {
   "cell_type": "code",
   "execution_count": null,
   "id": "48fe8969",
   "metadata": {},
   "outputs": [],
   "source": [
    "minion1 = minion()\n",
    "minion2 = minion()"
   ]
  },
  {
   "cell_type": "code",
   "execution_count": 16,
   "id": "522ea25d",
   "metadata": {},
   "outputs": [],
   "source": [
    "class minion():\n",
    "    def __init__(self):\n",
    "        print(\"미니언 생성\")\n",
    "\n",
    "        self.hp = 1000\n",
    "\n",
    "    def printHP(self):\n",
    "        print(self.hp)\n",
    "\n",
    "    def attack(self):\n",
    "        print(\"공격하기!\")\n",
    "    \n",
    "    def heart(self):\n",
    "        self.hp = self.hp - 10\n",
    "        print(\"아프다...\")\n"
   ]
  },
  {
   "cell_type": "code",
   "execution_count": 18,
   "id": "543e9c2d",
   "metadata": {},
   "outputs": [
    {
     "name": "stdout",
     "output_type": "stream",
     "text": [
      "미니언 생성\n"
     ]
    }
   ],
   "source": [
    "minion3 = minion()"
   ]
  },
  {
   "cell_type": "code",
   "execution_count": 29,
   "id": "e70c1806",
   "metadata": {},
   "outputs": [
    {
     "name": "stdout",
     "output_type": "stream",
     "text": [
      "공격하기!\n"
     ]
    }
   ],
   "source": [
    "minion3.attack()"
   ]
  },
  {
   "cell_type": "code",
   "execution_count": 27,
   "id": "5ecd4686",
   "metadata": {},
   "outputs": [
    {
     "name": "stdout",
     "output_type": "stream",
     "text": [
      "아프다...\n"
     ]
    }
   ],
   "source": [
    "minion3.heart()"
   ]
  },
  {
   "cell_type": "code",
   "execution_count": 28,
   "id": "5968f2cf",
   "metadata": {},
   "outputs": [
    {
     "name": "stdout",
     "output_type": "stream",
     "text": [
      "960\n"
     ]
    }
   ],
   "source": [
    "minion3.printHP()"
   ]
  }
 ],
 "metadata": {
  "kernelspec": {
   "display_name": "AI-Agent-Study (3.13.5)",
   "language": "python",
   "name": "python3"
  },
  "language_info": {
   "codemirror_mode": {
    "name": "ipython",
    "version": 3
   },
   "file_extension": ".py",
   "mimetype": "text/x-python",
   "name": "python",
   "nbconvert_exporter": "python",
   "pygments_lexer": "ipython3",
   "version": "3.11.13"
  }
 },
 "nbformat": 4,
 "nbformat_minor": 5
}
