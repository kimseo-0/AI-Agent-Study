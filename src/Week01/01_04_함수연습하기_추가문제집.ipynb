{
 "cells": [
  {
   "cell_type": "markdown",
   "id": "a9e250e6",
   "metadata": {},
   "source": [
    "### **함수 추가 문제집**\n",
    "\n",
    "추가적인 연습을 위한 함수 문제입니다. 코드 흐름 이해하기 퀴즈 2문제와 난이도별 함수 정의 문제 6문제로 구성되어 있습니다."
   ]
  },
  {
   "cell_type": "markdown",
   "id": "5ffc9fe7",
   "metadata": {},
   "source": [
    "---"
   ]
  },
  {
   "cell_type": "markdown",
   "id": "88420a77",
   "metadata": {},
   "source": [
    "#### **난이도 (하)**"
   ]
  },
  {
   "cell_type": "markdown",
   "id": "cc77b545",
   "metadata": {},
   "source": [
    "**문제 3**\n",
    "두 개의 숫자를 인자로 받아 곱셈 결과를 반환하는 `multiply_numbers` 함수를 만드세요."
   ]
  },
  {
   "cell_type": "code",
   "execution_count": null,
   "id": "768aa7c6",
   "metadata": {},
   "outputs": [],
   "source": [
    "# 여기에 함수를 정의하세요!\n",
    "multiply_numbers(4, 7) # 예상 출력: 28"
   ]
  },
  {
   "cell_type": "code",
   "execution_count": null,
   "id": "22a97d40",
   "metadata": {},
   "outputs": [],
   "source": []
  },
  {
   "cell_type": "markdown",
   "id": "c9e36a82",
   "metadata": {},
   "source": [
    "**문제 4**\n",
    "숫자를 인자로 받아 그 숫자의 제곱 값을 반환하는 `square_number` 함수를 만드세요."
   ]
  },
  {
   "cell_type": "code",
   "execution_count": null,
   "id": "d7d4fc4e",
   "metadata": {},
   "outputs": [],
   "source": [
    "# 여기에 함수를 정의하세요!\n",
    "square_number(9) # 예상 출력: 81"
   ]
  },
  {
   "cell_type": "markdown",
   "id": "db567e47",
   "metadata": {},
   "source": [
    "#### **난이도 (중)**"
   ]
  },
  {
   "cell_type": "markdown",
   "id": "ff4eaf51",
   "metadata": {},
   "source": [
    "**문제 5**\n",
    "숫자를 인자로 받아 0보다 크면 \"양수\", 0보다 작으면 \"음수\", 0이면 \"0\"을 출력하는 `check_positive` 함수를 만드세요."
   ]
  },
  {
   "cell_type": "code",
   "execution_count": null,
   "id": "63eb4426",
   "metadata": {},
   "outputs": [],
   "source": [
    "# 여기에 함수를 정의하세요!\n",
    "check_positive(5) # 예상 출력: 양수\n",
    "check_positive(-3) # 예상 출력: 음수\n",
    "check_positive(0) # 예상 출력: 0"
   ]
  },
  {
   "cell_type": "markdown",
   "id": "28fc2215",
   "metadata": {},
   "source": [
    "**문제 6**\n",
    "문자열을 인자로 받아 그 문자열의 길이를 반환하는 `get_string_length` 함수를 만드세요. (힌트: `len()` 함수를 사용하면 안 됩니다.)"
   ]
  },
  {
   "cell_type": "code",
   "execution_count": null,
   "id": "ed94d3cb",
   "metadata": {},
   "outputs": [],
   "source": [
    "# 여기에 함수를 정의하세요!\n",
    "get_string_length(\"Python\") # 예상 출력: 6"
   ]
  },
  {
   "cell_type": "markdown",
   "id": "1eb19194",
   "metadata": {},
   "source": [
    "#### **난이도 (상)**"
   ]
  },
  {
   "cell_type": "markdown",
   "id": "1ce0774d",
   "metadata": {},
   "source": [
    "**문제 7**\n",
    "이름(문자열)과 점수(정수)를 인자로 받아, 점수가 70점 이상이면 \"[이름]님, 합격입니다!\"를, 70점 미만이면 \"[이름]님, 불합격입니다.\"를 출력하는 `check_pass` 함수를 만드세요."
   ]
  },
  {
   "cell_type": "code",
   "execution_count": null,
   "id": "86e1681b",
   "metadata": {},
   "outputs": [],
   "source": [
    "# 여기에 함수를 정의하세요!\n",
    "check_pass(\"서윤\", 85) # 예상 출력: 서윤님, 합격입니다!\n",
    "check_pass(\"하준\", 62) # 예상 출력: 하준님, 불합격입니다."
   ]
  },
  {
   "cell_type": "markdown",
   "id": "aaf4cfa4",
   "metadata": {},
   "source": [
    "**문제 8**\n",
    "두 개의 숫자와 연산자(+, -, *, /)를 인자로 받아 해당 연산을 수행한 결과를 반환하는 `simple_calculator` 함수를 만드세요. (힌트: `if/elif/else`를 사용하세요.)"
   ]
  },
  {
   "cell_type": "code",
   "execution_count": null,
   "id": "75deeb21",
   "metadata": {},
   "outputs": [],
   "source": [
    "# 여기에 함수를 정의하세요!\n",
    "simple_calculator(10, 5, '+') # 예상 출력: 15\n",
    "simple_calculator(10, 5, '-') # 예상 출력: 5\n",
    "simple_calculator(10, 5, '*') # 예상 출력: 50\n",
    "simple_calculator(10, 5, '/') # 예상 출력: 2.0"
   ]
  }
 ],
 "metadata": {
  "kernelspec": {
   "display_name": "AI-Agent-Study (3.13.5)",
   "language": "python",
   "name": "python3"
  },
  "language_info": {
   "codemirror_mode": {
    "name": "ipython",
    "version": 3
   },
   "file_extension": ".py",
   "mimetype": "text/x-python",
   "name": "python",
   "nbconvert_exporter": "python",
   "pygments_lexer": "ipython3",
   "version": "3.13.5"
  }
 },
 "nbformat": 4,
 "nbformat_minor": 5
}
