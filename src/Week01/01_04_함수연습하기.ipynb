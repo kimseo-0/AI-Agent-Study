{
 "cells": [
  {
   "cell_type": "markdown",
   "id": "a9e250e6",
   "metadata": {},
   "source": [
    "### **함수 코드 흐름 이해하기 (복습)**\n",
    "\n",
    "다음 코드를 보고, 각 함수가 실행될 때 어떤 값이 출력될지 스스로 예상해 보세요."
   ]
  },
  {
   "cell_type": "markdown",
   "id": "b445ec6e",
   "metadata": {},
   "source": [
    "**문제 1**"
   ]
  },
  {
   "cell_type": "code",
   "execution_count": null,
   "id": "93d27546",
   "metadata": {},
   "outputs": [],
   "source": [
    "def multiply_by_two(num):\n",
    "    return num * 2\n",
    "\n",
    "result = multiply_by_two(5)\n",
    "print(result)"
   ]
  },
  {
   "cell_type": "markdown",
   "id": "58085142",
   "metadata": {},
   "source": [
    "**문제 2**"
   ]
  },
  {
   "cell_type": "code",
   "execution_count": null,
   "id": "6fa250e3",
   "metadata": {},
   "outputs": [],
   "source": [
    "def print_greeting(name):\n",
    "    print(f\"Hello, {name}!\")\n",
    "\n",
    "print_greeting(\"Alice\")"
   ]
  },
  {
   "cell_type": "markdown",
   "id": "439c33ef",
   "metadata": {},
   "source": [
    "**문제 3**"
   ]
  },
  {
   "cell_type": "code",
   "execution_count": null,
   "id": "f8eab566",
   "metadata": {},
   "outputs": [],
   "source": [
    "def check_odd_or_even(num):\n",
    "    if num % 2 == 0:\n",
    "        return \"Even\"\n",
    "    else:\n",
    "        return \"Odd\"\n",
    "\n",
    "print(check_odd_or_even(4))\n",
    "print(check_odd_or_even(7))"
   ]
  },
  {
   "cell_type": "markdown",
   "id": "626323a9",
   "metadata": {},
   "source": [
    "**문제 4**"
   ]
  },
  {
   "cell_type": "code",
   "execution_count": null,
   "id": "d61640e1",
   "metadata": {},
   "outputs": [],
   "source": [
    "def calculate_total(price, quantity):\n",
    "    total = price * quantity\n",
    "    return total\n",
    "\n",
    "order_total = calculate_total(100, 3)\n",
    "print(f\"Total: {order_total}\")"
   ]
  },
  {
   "cell_type": "markdown",
   "id": "b53d0c27",
   "metadata": {},
   "source": [
    "**문제 5**"
   ]
  },
  {
   "cell_type": "code",
   "execution_count": null,
   "id": "3d01273c",
   "metadata": {},
   "outputs": [],
   "source": [
    "def show_info(name, age=20):\n",
    "    print(f\"Name: {name}, Age: {age}\")\n",
    "\n",
    "show_info(\"Bob\")\n",
    "show_info(\"Charlie\", 25)"
   ]
  },
  {
   "cell_type": "markdown",
   "id": "cad625be",
   "metadata": {},
   "source": [
    "---"
   ]
  },
  {
   "cell_type": "markdown",
   "id": "5ffc9fe7",
   "metadata": {},
   "source": [
    "### **함수 직접 정의하기 (사용자 정의 함수)**\n",
    "\n",
    "아래 문제들을 해결하기 위한 함수를 직접 작성해 보세요."
   ]
  },
  {
   "cell_type": "markdown",
   "id": "a8f949ff",
   "metadata": {},
   "source": [
    "#### **난이도 (하)**"
   ]
  },
  {
   "cell_type": "markdown",
   "id": "ead3b1eb",
   "metadata": {},
   "source": [
    "**문제 1 (빈칸 채우기)**\n",
    "\"안녕하세요!\"를 출력하는 `say_hello` 함수를 완성하세요.\n",
    "\n",
    "___를 지우고 들어갈 내용을 작성하세요"
   ]
  },
  {
   "cell_type": "code",
   "execution_count": null,
   "id": "0f3b3b2c",
   "metadata": {},
   "outputs": [],
   "source": [
    "# 여기에 함수를 정의하세요!\n",
    "___ say_hello():\n",
    "    ___(\"안녕하세요!\")"
   ]
  },
  {
   "cell_type": "code",
   "execution_count": null,
   "id": "903bbd3c",
   "metadata": {},
   "outputs": [],
   "source": [
    "say_hello() # 예상 출력: 안녕하세요!"
   ]
  },
  {
   "cell_type": "markdown",
   "id": "88420a77",
   "metadata": {},
   "source": [
    "**문제 2**\n",
    "이름을 인자로 받아 \"안녕하세요, [이름]님!\"을 출력하는 `greet` 함수를 만드세요."
   ]
  },
  {
   "cell_type": "code",
   "execution_count": null,
   "id": "901ca0f1",
   "metadata": {},
   "outputs": [],
   "source": [
    "# 여기에 함수를 정의하세요!\n",
    "greet(\"은서\") # 예상 출력: 안녕하세요, 은서님!"
   ]
  },
  {
   "cell_type": "markdown",
   "id": "cc77b545",
   "metadata": {},
   "source": [
    "**문제 3**\n",
    "두 개의 숫자를 인자로 받아 그 합을 반환하는 `add_numbers` 함수를 만드세요."
   ]
  },
  {
   "cell_type": "code",
   "execution_count": null,
   "id": "768aa7c6",
   "metadata": {},
   "outputs": [],
   "source": [
    "# 여기에 함수를 정의하세요!\n",
    "add_numbers(10, 5) # 예상 출력: 15"
   ]
  },
  {
   "cell_type": "markdown",
   "id": "c9e36a82",
   "metadata": {},
   "source": [
    "**문제 4**\n",
    "두 개의 숫자를 인자로 받아 곱셈 결과를 반환하는 `multiply_numbers` 함수를 만드세요."
   ]
  },
  {
   "cell_type": "code",
   "execution_count": null,
   "id": "d7d4fc4e",
   "metadata": {},
   "outputs": [],
   "source": [
    "# 여기에 함수를 정의하세요!\n",
    "multiply_numbers(4, 7) # 예상 출력: 28"
   ]
  },
  {
   "cell_type": "markdown",
   "id": "1e82b87c",
   "metadata": {},
   "source": [
    "**문제 5**\n",
    "숫자를 인자로 받아 그 숫자의 제곱 값을 반환하는 `square_number` 함수를 만드세요."
   ]
  },
  {
   "cell_type": "code",
   "execution_count": null,
   "id": "ce2810c4",
   "metadata": {},
   "outputs": [],
   "source": [
    "# 여기에 함수를 정의하세요!\n",
    "square_number(9) # 예상 출력: 81"
   ]
  },
  {
   "cell_type": "markdown",
   "id": "db567e47",
   "metadata": {},
   "source": [
    "#### **난이도 (중)**"
   ]
  },
  {
   "cell_type": "markdown",
   "id": "b644da05",
   "metadata": {},
   "source": [
    "**문제 6 (빈칸 채우기)**\n",
    "세 개의 숫자를 인자로 받아 평균값을 반환하는 `calculate_average` 함수를 완성하세요.\n",
    "\n",
    "\n",
    "___를 지우고 들어갈 내용을 작성하세요"
   ]
  },
  {
   "cell_type": "code",
   "execution_count": null,
   "id": "d9a9af46",
   "metadata": {},
   "outputs": [],
   "source": [
    "# 여기에 함수를 정의하세요!\n",
    "def calculate_average(a, b, c):\n",
    "    total = a + b + c\n",
    "    average = total / ___\n",
    "    return average"
   ]
  },
  {
   "cell_type": "code",
   "execution_count": null,
   "id": "8a2e57c2",
   "metadata": {},
   "outputs": [],
   "source": [
    "calculate_average(10, 20, 30) # 예상 출력: 20.0"
   ]
  },
  {
   "cell_type": "markdown",
   "id": "ff4eaf51",
   "metadata": {},
   "source": [
    "**문제 7**\n",
    "숫자를 인자로 받아 0보다 크면 \"양수\", 0보다 작으면 \"음수\", 0이면 \"0\"을 출력하는 `check_positive` 함수를 만드세요."
   ]
  },
  {
   "cell_type": "code",
   "execution_count": null,
   "id": "63eb4426",
   "metadata": {},
   "outputs": [],
   "source": [
    "# 여기에 함수를 정의하세요!\n",
    "check_positive(5) # 예상 출력: 양수\n",
    "check_positive(-3) # 예상 출력: 음수\n",
    "check_positive(0) # 예상 출력: 0"
   ]
  },
  {
   "cell_type": "markdown",
   "id": "28fc2215",
   "metadata": {},
   "source": [
    "**문제 8**\n",
    "문자열을 인자로 받아 그 문자열의 길이를 반환하는 `get_string_length` 함수를 만드세요. (힌트: `len()` 함수를 사용하면 안 됩니다.)"
   ]
  },
  {
   "cell_type": "code",
   "execution_count": null,
   "id": "ed94d3cb",
   "metadata": {},
   "outputs": [],
   "source": [
    "# 여기에 함수를 정의하세요!\n",
    "get_string_length(\"Python\") # 예상 출력: 6"
   ]
  },
  {
   "cell_type": "markdown",
   "id": "d8ee599a",
   "metadata": {},
   "source": [
    "**문제 9**\n",
    "이름과 나이를 인자로 받아 \"저는 [이름]이고, [나이]살입니다.\"를 출력하는 `introduce_person` 함수를 만드세요. 이때 나이를 입력하지 않으면 기본값으로 `20`살이 출력되도록 하세요."
   ]
  },
  {
   "cell_type": "code",
   "execution_count": null,
   "id": "bd73f13e",
   "metadata": {},
   "outputs": [],
   "source": [
    "# 여기에 함수를 정의하세요!\n",
    "introduce_person(\"서준\", 30) # 예상 출력: 저는 서준이고, 30살입니다.\n",
    "introduce_person(\"지민\") # 예상 출력: 저는 지민이고, 20살입니다."
   ]
  },
  {
   "cell_type": "markdown",
   "id": "79f2766e",
   "metadata": {},
   "source": [
    "**문제 10**\n",
    "두 개의 숫자를 인자로 받아 첫 번째 숫자가 두 번째 숫자보다 크면 `True`를, 아니면 `False`를 반환하는 `is_greater` 함수를 만드세요."
   ]
  },
  {
   "cell_type": "code",
   "execution_count": null,
   "id": "f2110373",
   "metadata": {},
   "outputs": [],
   "source": [
    "# 여기에 함수를 정의하세요!\n",
    "is_greater(10, 5) # 예상 출력: True\n",
    "is_greater(3, 8) # 예상 출력: False"
   ]
  },
  {
   "cell_type": "markdown",
   "id": "1eb19194",
   "metadata": {},
   "source": [
    "#### **난이도 (상)**"
   ]
  },
  {
   "cell_type": "markdown",
   "id": "78857151",
   "metadata": {},
   "source": [
    "**문제 11 (빈칸 채우기)**\n",
    "정수 리스트를 인자로 받아 리스트의 모든 요소의 합을 반환하는 `sum_list` 함수를 완성하세요.\n",
    "\n",
    "\n",
    "___를 지우고 들어갈 내용을 작성하세요"
   ]
  },
  {
   "cell_type": "code",
   "execution_count": null,
   "id": "5f01489b",
   "metadata": {},
   "outputs": [],
   "source": [
    "# 여기에 함수를 정의하세요!\n",
    "def sum_list(numbers):\n",
    "    total = 0\n",
    "    for num in numbers:\n",
    "        total += ___\n",
    "    return total"
   ]
  },
  {
   "cell_type": "code",
   "execution_count": null,
   "id": "09e2a703",
   "metadata": {},
   "outputs": [],
   "source": [
    "sum_list([1, 2, 3, 4, 5]) # 예상 출력: 15"
   ]
  },
  {
   "cell_type": "markdown",
   "id": "6d2cb8f4",
   "metadata": {},
   "source": [
    "**문제 12**\n",
    "정수 리스트를 인자로 받아 리스트 내의 가장 큰 값을 반환하는 `find_max` 함수를 만드세요. (힌트: `max()` 함수를 사용하지 마세요.)"
   ]
  },
  {
   "cell_type": "code",
   "execution_count": null,
   "id": "26eb1cb2",
   "metadata": {},
   "outputs": [],
   "source": [
    "# 여기에 함수를 정의하세요!\n",
    "find_max([2, 5, 1, 9, 3]) # 예상 출력: 9"
   ]
  },
  {
   "cell_type": "markdown",
   "id": "e445dccd",
   "metadata": {},
   "source": [
    "**문제 13**\n",
    "정수 리스트를 인자로 받아, 짝수만 골라 새로운 리스트로 반환하는 `filter_even` 함수를 만드세요."
   ]
  },
  {
   "cell_type": "code",
   "execution_count": null,
   "id": "61045355",
   "metadata": {},
   "outputs": [],
   "source": [
    "# 여기에 함수를 정의하세요!\n",
    "filter_even([1, 2, 3, 4, 5, 6]) # 예상 출력: [2, 4, 6]"
   ]
  },
  {
   "cell_type": "markdown",
   "id": "1ce0774d",
   "metadata": {},
   "source": [
    "**문제 14**\n",
    "이름(문자열)과 점수(정수)를 인자로 받아, 점수가 70점 이상이면 \"[이름]님, 합격입니다!\"를, 70점 미만이면 \"[이름]님, 불합격입니다.\"를 출력하는 `check_pass` 함수를 만드세요."
   ]
  },
  {
   "cell_type": "code",
   "execution_count": null,
   "id": "86e1681b",
   "metadata": {},
   "outputs": [],
   "source": [
    "# 여기에 함수를 정의하세요!\n",
    "check_pass(\"서윤\", 85) # 예상 출력: 서윤님, 합격입니다!\n",
    "check_pass(\"하준\", 62) # 예상 출력: 하준님, 불합격입니다."
   ]
  },
  {
   "cell_type": "markdown",
   "id": "aaf4cfa4",
   "metadata": {},
   "source": [
    "**문제 15**\n",
    "두 개의 숫자와 연산자(+, -, *, /)를 인자로 받아 해당 연산을 수행한 결과를 반환하는 `simple_calculator` 함수를 만드세요. (힌트: `if/elif/else`를 사용하세요.)"
   ]
  },
  {
   "cell_type": "code",
   "execution_count": null,
   "id": "75deeb21",
   "metadata": {},
   "outputs": [],
   "source": [
    "# 여기에 함수를 정의하세요!\n",
    "simple_calculator(10, 5, '+') # 예상 출력: 15\n",
    "simple_calculator(10, 5, '-') # 예상 출력: 5\n",
    "simple_calculator(10, 5, '*') # 예상 출력: 50\n",
    "simple_calculator(10, 5, '/') # 예상 출력: 2.0"
   ]
  }
 ],
 "metadata": {
  "kernelspec": {
   "display_name": "AI-Agent-Study (3.13.5)",
   "language": "python",
   "name": "python3"
  },
  "language_info": {
   "codemirror_mode": {
    "name": "ipython",
    "version": 3
   },
   "file_extension": ".py",
   "mimetype": "text/x-python",
   "name": "python",
   "nbconvert_exporter": "python",
   "pygments_lexer": "ipython3",
   "version": "3.13.5"
  }
 },
 "nbformat": 4,
 "nbformat_minor": 5
}
