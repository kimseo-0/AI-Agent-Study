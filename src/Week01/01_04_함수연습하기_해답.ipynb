{
 "cells": [
  {
   "cell_type": "markdown",
   "id": "5ffc9fe7",
   "metadata": {},
   "source": [
    "### **함수 직접 정의하기 (사용자 정의 함수) 해답**\n",
    "\n",
    "아래 문제들에 대한 해답 코드입니다. 코드를 직접 실행하며 결과를 확인해 보세요."
   ]
  },
  {
   "cell_type": "markdown",
   "id": "a8f949ff",
   "metadata": {},
   "source": [
    "#### **난이도 (하)**"
   ]
  },
  {
   "cell_type": "markdown",
   "id": "ead3b1eb",
   "metadata": {},
   "source": [
    "**문제 1 (빈칸 채우기)**\n",
    "\"안녕하세요!\"를 출력하는 `say_hello` 함수를 완성하세요."
   ]
  },
  {
   "cell_type": "code",
   "execution_count": null,
   "id": "0f3b3b2c",
   "metadata": {},
   "outputs": [],
   "source": [
    "# 여기에 함수를 정의하세요!\n",
    "def say_hello():\n",
    "    print(\"안녕하세요!\")"
   ]
  },
  {
   "cell_type": "code",
   "execution_count": null,
   "id": "903bbd3c",
   "metadata": {},
   "outputs": [],
   "source": [
    "say_hello() # 예상 출력: 안녕하세요!"
   ]
  },
  {
   "cell_type": "markdown",
   "id": "88420a77",
   "metadata": {},
   "source": [
    "**문제 2**\n",
    "이름을 인자로 받아 \"안녕하세요, [이름]님!\"을 출력하는 `greet` 함수를 만드세요."
   ]
  },
  {
   "cell_type": "code",
   "execution_count": null,
   "id": "901ca0f1",
   "metadata": {},
   "outputs": [],
   "source": [
    "# 여기에 함수를 정의하세요!\n",
    "def greet(name):\n",
    "    print(f\"안녕하세요, {name}님!\")\n",
    "\ngreet(\"은서\") # 예상 출력: 안녕하세요, 은서님!"
   ]
  },
  {
   "cell_type": "markdown",
   "id": "cc77b545",
   "metadata": {},
   "source": [
    "**문제 3**\n",
    "두 개의 숫자를 인자로 받아 그 합을 반환하는 `add_numbers` 함수를 만드세요."
   ]
  },
  {
   "cell_type": "code",
   "execution_count": null,
   "id": "768aa7c6",
   "metadata": {},
   "outputs": [],
   "source": [
    "# 여기에 함수를 정의하세요!\n",
    "def add_numbers(a, b):\n",
    "    return a + b\n",
    "\n",
    "result = add_numbers(10, 5)\n",
    "print(result) # 예상 출력: 15"
   ]
  },
  {
   "cell_type": "markdown",
   "id": "db567e47",
   "metadata": {},
   "source": [
    "#### **난이도 (중)**"
   ]
  },
  {
   "cell_type": "markdown",
   "id": "b644da05",
   "metadata": {},
   "source": [
    "**문제 4 (빈칸 채우기)**\n",
    "세 개의 숫자를 인자로 받아 평균값을 반환하는 `calculate_average` 함수를 완성하세요."
   ]
  },
  {
   "cell_type": "code",
   "execution_count": null,
   "id": "d9a9af46",
   "metadata": {},
   "outputs": [],
   "source": [
    "# 여기에 함수를 정의하세요!\n",
    "def calculate_average(a, b, c):\n",
    "    total = a + b + c\n",
    "    average = total / 3\n",
    "    return average"
   ]
  },
  {
   "cell_type": "code",
   "execution_count": null,
   "id": "8a2e57c2",
   "metadata": {},
   "outputs": [],
   "source": [
    "result = calculate_average(10, 20, 30)\n",
    "print(result) # 예상 출력: 20.0"
   ]
  },
  {
   "cell_type": "markdown",
   "id": "ff4eaf51",
   "metadata": {},
   "source": [
    "**문제 5**\n",
    "숫자를 인자로 받아 0보다 크면 \"양수\", 0보다 작으면 \"음수\", 0이면 \"0\"을 출력하는 `check_positive` 함수를 만드세요."
   ]
  },
  {
   "cell_type": "code",
   "execution_count": null,
   "id": "63eb4426",
   "metadata": {},
   "outputs": [],
   "source": [
    "# 여기에 함수를 정의하세요!\n",
    "def check_positive(num):\n",
    "    if num > 0:\n",
    "        print(\"양수\")\n",
    "    elif num < 0:\n",
    "        print(\"음수\")\n",
    "    else:\n",
    "        print(\"0\")\n",
    "\n",
    "check_positive(5) # 예상 출력: 양수\n",
    "check_positive(-3) # 예상 출력: 음수\n",
    "check_positive(0) # 예상 출력: 0"
   ]
  },
  {
   "cell_type": "markdown",
   "id": "28fc2215",
   "metadata": {},
   "source": [
    "**문제 6**\n",
    "문자열을 인자로 받아 그 문자열의 길이를 반환하는 `get_string_length` 함수를 만드세요. (힌트: `len()` 함수를 사용하면 안 됩니다.)"
   ]
  },
  {
   "cell_type": "code",
   "execution_count": null,
   "id": "ed94d3cb",
   "metadata": {},
   "outputs": [],
   "source": [
    "# 여기에 함수를 정의하세요!\n",
    "def get_string_length(s):\n",
    "    count = 0\n",
    "    for char in s:\n",
    "        count += 1\n",
    "    return count\n",
    "\n",
    "result = get_string_length(\"Python\")\n",
    "print(result) # 예상 출력: 6"
   ]
  },
  {
   "cell_type": "markdown",
   "id": "1eb19194",
   "metadata": {},
   "source": [
    "#### **난이도 (상)**"
   ]
  },
  {
   "cell_type": "markdown",
   "id": "78857151",
   "metadata": {},
   "source": [
    "**문제 7 (빈칸 채우기)**\n",
    "정수 리스트를 인자로 받아 리스트의 모든 요소의 합을 반환하는 `sum_list` 함수를 완성하세요."
   ]
  },
  {
   "cell_type": "code",
   "execution_count": null,
   "id": "5f01489b",
   "metadata": {},
   "outputs": [],
   "source": [
    "# 여기에 함수를 정의하세요!\n",
    "def sum_list(numbers):\n",
    "    total = 0\n",
    "    for num in numbers:\n",
    "        total += num\n",
    "    return total"
   ]
  },
  {
   "cell_type": "code",
   "execution_count": null,
   "id": "09e2a703",
   "metadata": {},
   "outputs": [],
   "source": [
    "result = sum_list([1, 2, 3, 4, 5])\n",
    "print(result) # 예상 출력: 15"
   ]
  },
  {
   "cell_type": "markdown",
   "id": "6d2cb8f4",
   "metadata": {},
   "source": [
    "**문제 8**\n",
    "정수 리스트를 인자로 받아 리스트 내의 가장 큰 값을 반환하는 `find_max` 함수를 만드세요. (힌트: `max()` 함수를 사용하지 마세요.)"
   ]
  },
  {
   "cell_type": "code",
   "execution_count": null,
   "id": "26eb1cb2",
   "metadata": {},
   "outputs": [],
   "source": [
    "# 여기에 함수를 정의하세요!\n",
    "def find_max(numbers):\n",
    "    max_num = numbers[0]\n",
    "    for num in numbers:\n",
    "        if num > max_num:\n",
    "            max_num = num\n",
    "    return max_num\n",
    "\n",
    "result = find_max([2, 5, 1, 9, 3])\n",
    "print(result) # 예상 출력: 9"
   ]
  },
  {
   "cell_type": "markdown",
   "id": "e445dccd",
   "metadata": {},
   "source": [
    "**문제 9**\n",
    "정수 리스트를 인자로 받아, 짝수만 골라 새로운 리스트로 반환하는 `filter_even` 함수를 만드세요."
   ]
  },
  {
   "cell_type": "code",
   "execution_count": null,
   "id": "61045355",
   "metadata": {},
   "outputs": [],
   "source": [
    "# 여기에 함수를 정의하세요!\n",
    "def filter_even(numbers):\n",
    "    even_numbers = []\n",
    "    for num in numbers:\n",
    "        if num % 2 == 0:\n",
    "            even_numbers.append(num)\n",
    "    return even_numbers\n",
    "\n",
    "result = filter_even([1, 2, 3, 4, 5, 6])\n",
    "print(result) # 예상 출력: [2, 4, 6]"
   ]
  }
 ],
 "metadata": {
  "kernelspec": {
   "display_name": "AI-Agent-Study (3.13.5)",
   "language": "python",
   "name": "python3"
  },
  "language_info": {
   "codemirror_mode": {
    "name": "ipython",
    "version": 3
   },
   "file_extension": ".py",
   "mimetype": "text/x-python",
   "name": "python",
   "nbconvert_exporter": "python",
   "pygments_lexer": "ipython3",
   "version": "3.11.13"
  }
 },
 "nbformat": 4,
 "nbformat_minor": 5
}