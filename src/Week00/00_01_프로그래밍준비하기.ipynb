{
 "cells": [
  {
   "cell_type": "markdown",
   "id": "9e4b6244",
   "metadata": {},
   "source": [
    "# UV 가상환경 세팅하기"
   ]
  },
  {
   "cell_type": "markdown",
   "id": "b680d16f",
   "metadata": {},
   "source": [
    "`uv init` : uv 환경 세팅"
   ]
  },
  {
   "cell_type": "markdown",
   "id": "d96a1933",
   "metadata": {},
   "source": [
    "`uv venv` : 가상환경 설치"
   ]
  },
  {
   "cell_type": "markdown",
   "id": "7875090b",
   "metadata": {},
   "source": [
    "`.venv\\Scripts\\activate` : 가상환경 들어가기"
   ]
  },
  {
   "cell_type": "markdown",
   "id": "210f5a1a",
   "metadata": {},
   "source": [
    "`uv add 내가 설치해야하는 모듈 이름`"
   ]
  },
  {
   "cell_type": "markdown",
   "id": "d820d41c",
   "metadata": {},
   "source": [
    "+ 추가   \n",
    "\n",
    "`uv add ipykernel` : 주피터 노트북   \n",
    "`uv pip install .` : 내가 의존성을 가진 모든 모듈을 설치해라"
   ]
  },
  {
   "cell_type": "markdown",
   "id": "b951d52e",
   "metadata": {},
   "source": [
    "# git 정리하기"
   ]
  },
  {
   "cell_type": "markdown",
   "id": "2b83c9fb",
   "metadata": {},
   "source": [
    "1. github 레포지토리 만들기"
   ]
  },
  {
   "cell_type": "markdown",
   "id": "902cdc75",
   "metadata": {},
   "source": [
    "git clone \"url 주소\""
   ]
  },
  {
   "cell_type": "markdown",
   "id": "8645eceb",
   "metadata": {},
   "source": [
    "`.gitignore` 파일 만들기"
   ]
  },
  {
   "cell_type": "markdown",
   "id": "37c3c63c",
   "metadata": {},
   "source": [
    "# 나만의 프로그래밍 용어 정리"
   ]
  },
  {
   "cell_type": "markdown",
   "id": "eb166533",
   "metadata": {},
   "source": [
    "## 변수  (Variable)"
   ]
  },
  {
   "cell_type": "markdown",
   "id": "74f6af8a",
   "metadata": {},
   "source": [
    "내용을 작성해보세요"
   ]
  },
  {
   "cell_type": "code",
   "execution_count": null,
   "id": "3bf51792",
   "metadata": {},
   "outputs": [],
   "source": [
    "# 코드를 연습해보세요"
   ]
  },
  {
   "cell_type": "markdown",
   "id": "23314fc2",
   "metadata": {},
   "source": [
    "## 식별자 (Identifier)"
   ]
  },
  {
   "cell_type": "markdown",
   "id": "037d517a",
   "metadata": {},
   "source": [
    "내용을 작성해보세요"
   ]
  },
  {
   "cell_type": "code",
   "execution_count": null,
   "id": "0c7923cc",
   "metadata": {},
   "outputs": [],
   "source": [
    "# 코드를 연습해보세요"
   ]
  },
  {
   "cell_type": "markdown",
   "id": "851083d3",
   "metadata": {},
   "source": [
    "## 연산자 (Operator)"
   ]
  },
  {
   "cell_type": "markdown",
   "id": "816e23da",
   "metadata": {},
   "source": [
    "내용을 작성해보세요"
   ]
  },
  {
   "cell_type": "code",
   "execution_count": null,
   "id": "707097b3",
   "metadata": {},
   "outputs": [],
   "source": [
    "# 코드를 연습해보세요"
   ]
  },
  {
   "cell_type": "markdown",
   "id": "f969d4e8",
   "metadata": {},
   "source": [
    "## 데이터 타입 (자료형)"
   ]
  },
  {
   "cell_type": "markdown",
   "id": "f6100759",
   "metadata": {},
   "source": [
    "내용을 작성해보세요"
   ]
  },
  {
   "cell_type": "code",
   "execution_count": null,
   "id": "bea1b466",
   "metadata": {},
   "outputs": [],
   "source": [
    "# 코드를 연습해보세요"
   ]
  },
  {
   "cell_type": "markdown",
   "id": "46acd950",
   "metadata": {},
   "source": [
    "## 함수 (Function)"
   ]
  },
  {
   "cell_type": "markdown",
   "id": "41e3bc7a",
   "metadata": {},
   "source": [
    "내용을 작성해보세요"
   ]
  },
  {
   "cell_type": "code",
   "execution_count": null,
   "id": "9695d850",
   "metadata": {},
   "outputs": [],
   "source": [
    "# 코드를 연습해보세요"
   ]
  },
  {
   "cell_type": "markdown",
   "id": "0aa9663f",
   "metadata": {},
   "source": [
    "## 매개변수 (Parameter) & 인자 (Argument)"
   ]
  },
  {
   "cell_type": "markdown",
   "id": "be722d53",
   "metadata": {},
   "source": [
    "내용을 작성해보세요"
   ]
  },
  {
   "cell_type": "code",
   "execution_count": null,
   "id": "810a5bb9",
   "metadata": {},
   "outputs": [],
   "source": [
    "# 코드를 연습해보세요"
   ]
  },
  {
   "cell_type": "markdown",
   "id": "b26f01f7",
   "metadata": {},
   "source": [
    "## 추가 용어들"
   ]
  },
  {
   "cell_type": "markdown",
   "id": "52b8df8e",
   "metadata": {},
   "source": [
    "추가로 정리하고 싶은 용어들을 정리해보세요"
   ]
  }
 ],
 "metadata": {
  "language_info": {
   "name": "python"
  }
 },
 "nbformat": 4,
 "nbformat_minor": 5
}
