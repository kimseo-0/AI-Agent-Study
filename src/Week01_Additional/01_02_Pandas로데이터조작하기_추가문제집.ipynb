{
 "cells": [
  {
   "cell_type": "markdown",
   "metadata": {},
   "source": [
    "### **데이터 프레임 연습 문제**\n",
    "\n",
    "아래는 **펭귄**과 **타이타닉** 데이터셋을 활용한 10개의 연습 문제입니다. 데이터 분석에 자주 사용되는 Pandas 기능을 익히고, 두 가지 다른 유형의 데이터를 다루는 실전 연습을 할 수 있도록 구성되었습니다."
   ]
  },
  {
   "cell_type": "markdown",
   "metadata": {},
   "source": [
    "---"
   ]
  },
  {
   "cell_type": "markdown",
   "metadata": {},
   "source": [
    "#### **1. 펭귄 데이터셋 (Penguin Dataset)**"
   ]
  },
  {
   "cell_type": "markdown",
   "metadata": {},
   "source": [
    "**문제 1. 데이터 불러오기 및 기본 정보 확인**\n",
    "* **문제 설명:** 'penguins.csv' 파일을 불러와 DataFrame으로 만드세요. `df.head()`와 `df.info()`를 사용하여 데이터의 상위 5개 행과 전체 정보를 확인하세요.\n",
    "* **HINT:** `pd.read_csv()`로 데이터를 불러온 후, `.head()`와 `.info()` 메서드를 사용해 보세요."
   ]
  },
  {
   "cell_type": "code",
   "execution_count": null,
   "metadata": {},
   "outputs": [],
   "source": [
    "import pandas as pd\n",
    "import seaborn as sns\n",
    "\n",
    "df = sns.load_dataset('penguins')\n",
    "\n",
    "# 코드를 작성하세요\n",
    "# 예상 출력: 데이터의 상위 5행과 각 컬럼의 정보"
   ]
  },
  {
   "cell_type": "markdown",
   "metadata": {},
   "source": [
    "**문제 2. 특정 조건으로 데이터 필터링**\n",
    "* **문제 설명:** 'species' 컬럼의 값이 'Adelie'인 펭귄들만 필터링하여 새로운 DataFrame을 만드세요.\n",
    "* **HINT:** 불리언 인덱싱을 사용하고, `df['species'] == 'Adelie'`와 같이 조건을 작성하세요."
   ]
  },
  {
   "cell_type": "code",
   "execution_count": null,
   "metadata": {},
   "outputs": [],
   "source": [
    "import pandas as pd\n",
    "import seaborn as sns\n",
    "df = sns.load_dataset('penguins')\n",
    "\n",
    "# 코드를 작성하세요\n",
    "# 예상 출력: 'Adelie' 종의 펭귄들로만 구성된 DataFrame"
   ]
  },
  {
   "cell_type": "markdown",
   "metadata": {},
   "source": [
    "**문제 3. 그룹별 평균 계산**\n",
    "* **문제 설명:** 'island' 컬럼을 기준으로 그룹화하고, 각 섬에 서식하는 펭귄들의 'body_mass_g' 평균을 계산하세요.\n",
    "* **HINT:** `.groupby('island')`로 그룹을 만든 후, `['body_mass_g'].mean()`으로 평균을 구하세요."
   ]
  },
  {
   "cell_type": "code",
   "execution_count": null,
   "metadata": {},
   "outputs": [],
   "source": [
    "import pandas as pd\n",
    "import seaborn as sns\n",
    "df = sns.load_dataset('penguins')\n",
    "\n",
    "# 코드를 작성하세요\n",
    "# 예상 출력: 섬별 펭귄의 평균 몸무게"
   ]
  },
  {
   "cell_type": "markdown",
   "metadata": {},
   "source": [
    "**문제 4. 결측치 확인**\n",
    "* **문제 설명:** 데이터에 결측치(NaN)가 있는지 확인하고, 각 컬럼의 결측치 개수를 세어 보세요.\n",
    "* **HINT:** `.isna()` 또는 `.isnull()`로 결측치를 확인하고, `.sum()`으로 개수를 세어보세요."
   ]
  },
  {
   "cell_type": "code",
   "execution_count": null,
   "metadata": {},
   "outputs": [],
   "source": [
    "import pandas as pd\n",
    "import seaborn as sns\n",
    "df = sns.load_dataset('penguins')\n",
    "\n",
    "# 코드를 작성하세요\n",
    "# 예상 출력: 각 컬럼별 결측치 개수"
   ]
  },
  {
   "cell_type": "markdown",
   "metadata": {},
   "source": [
    "**문제 5. 여러 조건으로 데이터 필터링**\n",
    "* **문제 설명:** 'species'가 'Gentoo'이고, 'sex'가 'Male'인 펭귄들만 필터링하여 DataFrame을 만드세요.\n",
    "* **HINT:** 두 개의 조건을 `&` 연산자로 연결하고, 각 조건을 괄호로 묶어주세요."
   ]
  },
  {
   "cell_type": "code",
   "execution_count": null,
   "metadata": {},
   "outputs": [],
   "source": [
    "import pandas as pd\n",
    "import seaborn as sns\n",
    "df = sns.load_dataset('penguins')\n",
    "\n",
    "# 코드를 작성하세요\n",
    "# 예상 출력: 'Gentoo' 종의 수컷 펭귄들로만 구성된 DataFrame"
   ]
  },
  {
   "cell_type": "markdown",
   "metadata": {},
   "source": [
    "---"
   ]
  },
  {
   "cell_type": "markdown",
   "metadata": {},
   "source": [
    "#### **2. 타이타닉 데이터셋 (Titanic Dataset)**"
   ]
  },
  {
   "cell_type": "markdown",
   "metadata": {},
   "source": [
    "**문제 1. 데이터 불러오기 및 열(Column) 정보 확인**\n",
    "* **문제 설명:** 'titanic.csv' 파일을 불러와 DataFrame으로 만드세요. `df.columns`를 사용해 어떤 열이 있는지 확인하세요.\n",
    "* **HINT:** `pd.read_csv()`로 데이터를 불러온 후, `.columns` 속성을 확인해 보세요."
   ]
  },
  {
   "cell_type": "code",
   "execution_count": null,
   "metadata": {},
   "outputs": [],
   "source": [
    "import pandas as pd\n",
    "url = \"https://raw.githubusercontent.com/datasciencedojo/datasets/master/titanic.csv\"\n",
    "\n",
    "# 파일 경로에 url 을 작성해보세요!!!\n",
    "\n",
    "# 코드를 작성하세요\n",
    "# 예상 출력: DataFrame의 모든 열 이름"
   ]
  },
  {
   "cell_type": "markdown",
   "metadata": {},
   "source": [
    "**문제 2. 데이터 필터링**\n",
    "* **문제 설명:** `Survived` 컬럼의 값이 1인 행만 필터링하여 생존자 데이터만 추출하세요.\n",
    "* **HINT:** `df['Survived'] == 1`이라는 불리언 조건으로 필터링해 보세요."
   ]
  },
  {
   "cell_type": "code",
   "execution_count": null,
   "metadata": {},
   "outputs": [],
   "source": [
    "import pandas as pd\n",
    "url = \"https://raw.githubusercontent.com/datasciencedojo/datasets/master/titanic.csv\"\n",
    "df = pd.read_csv(url)\n",
    "\n",
    "# 코드를 작성하세요\n",
    "# 예상 출력: 생존자들로만 구성된 DataFrame"
   ]
  },
  {
   "cell_type": "markdown",
   "metadata": {},
   "source": [
    "**문제 3. 그룹별 평균 계산**\n",
    "* **문제 설명:** 'Pclass' 컬럼을 기준으로 그룹화하고, 각 클래스별 승객의 평균 나이를 계산하세요.\n",
    "* **HINT:** `.groupby('Pclass')`로 그룹을 만든 후, `['Age'].mean()`을 적용해 보세요."
   ]
  },
  {
   "cell_type": "code",
   "execution_count": null,
   "metadata": {},
   "outputs": [],
   "source": [
    "import pandas as pd\n",
    "url = \"https://raw.githubusercontent.com/datasciencedojo/datasets/master/titanic.csv\"\n",
    "df = pd.read_csv(url)\n",
    "\n",
    "# 코드를 작성하세요\n",
    "# 예상 출력: Pclass별 평균 나이"
   ]
  },
  {
   "cell_type": "markdown",
   "metadata": {},
   "source": [
    "**문제 4. 새로운 열(Column) 생성**\n",
    "* **문제 설명:** 'Age' 컬럼을 기준으로, 나이가 18세 미만이면 'Child', 그 외는 'Adult'로 분류하는 **'AgeGroup'** 이라는 새로운 열을 추가하세요.\n",
    "* **HINT:** `np.where(조건, '참일 때 값', '거짓일 때 값')` 함수를 사용하면 조건에 따라 값을 할당할 수 있습니다."
   ]
  },
  {
   "cell_type": "code",
   "execution_count": null,
   "metadata": {},
   "outputs": [],
   "source": [
    "import pandas as pd\n",
    "import numpy as np\n",
    "url = \"https://raw.githubusercontent.com/datasciencedojo/datasets/master/titanic.csv\"\n",
    "df = pd.read_csv(url)\n",
    "\n",
    "# 코드를 작성하세요\n",
    "# 예상 출력: 'AgeGroup' 컬럼이 추가된 DataFrame"
   ]
  },
  {
   "cell_type": "markdown",
   "metadata": {},
   "source": [
    "**문제 5. 특정 열의 값 빈도 계산**\n",
    "* **문제 설명:** 'Embarked' 컬럼의 고유한 값들과 각 값의 빈도를 계산하세요.\n",
    "* **HINT:** `df['Embarked'].value_counts()` 메서드를 사용해 보세요."
   ]
  },
  {
   "cell_type": "code",
   "execution_count": null,
   "metadata": {},
   "outputs": [],
   "source": [
    "import pandas as pd\n",
    "url = \"https://raw.githubusercontent.com/datasciencedojo/datasets/master/titanic.csv\"\n",
    "df = pd.read_csv(url)\n",
    "\n",
    "# 코드를 작성하세요\n",
    "# 예상 출력: 'Embarked' 컬럼의 고유값과 그 빈도 수"
   ]
  }
 ],
 "metadata": {
  "kernelspec": {
   "display_name": "AI-Agent-Study (3.13.5)",
   "language": "python",
   "name": "python3"
  },
  "language_info": {
   "codemirror_mode": {
    "name": "ipython",
    "version": 3
   },
   "file_extension": ".py",
   "mimetype": "text/x-python",
   "name": "python",
   "nbconvert_exporter": "python",
   "pygments_lexer": "ipython3",
   "version": "3.11.13"
  }
 },
 "nbformat": 4,
 "nbformat_minor": 4
}
